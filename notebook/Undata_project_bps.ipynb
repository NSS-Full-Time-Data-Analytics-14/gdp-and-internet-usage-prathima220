{
 "cells": [
  {
   "cell_type": "code",
   "execution_count": null,
   "id": "00d915b7-9604-4df5-b333-4c9f2514c0d9",
   "metadata": {},
   "outputs": [],
   "source": [
    "import pandas as pd\n",
    "import numpy as np\n",
    "import matplotlib.pyplot as plt\n",
    "import seaborn as sns"
   ]
  },
  {
   "cell_type": "code",
   "execution_count": null,
   "id": "8f9d24df-646a-432b-bae8-74e621492482",
   "metadata": {},
   "outputs": [],
   "source": [
    "gdp_df = pd.read_csv('../data/gdp_percapita.csv')   # function reads the CSV file specified by the file path (\"your_file.csv\") into a pandas DataFrame\n",
    "gdp_df"
   ]
  },
  {
   "cell_type": "code",
   "execution_count": null,
   "id": "13649d4c-4669-40d6-a5a3-24b4c6a1a96d",
   "metadata": {},
   "outputs": [],
   "source": [
    "internet_df = pd.read_csv('../data/internet_use.csv',nrows=6083) # function reads the CSV file specified by the file path  into a pandas DataFrame\n",
    "internet_df"
   ]
  },
  {
   "cell_type": "code",
   "execution_count": null,
   "id": "0fb58908-742c-4294-bc9c-6055a6a413ff",
   "metadata": {},
   "outputs": [],
   "source": [
    "gdp_df.info()  #  provides a concise summary of a DataFrame"
   ]
  },
  {
   "cell_type": "code",
   "execution_count": null,
   "id": "1c51603e-0e20-4fd4-b053-d12353915e4e",
   "metadata": {},
   "outputs": [],
   "source": [
    "gdp_df.nunique()  # Count number of distinct elements"
   ]
  },
  {
   "cell_type": "markdown",
   "id": "efc34a42-72a6-413b-b9e9-6304273ba413",
   "metadata": {},
   "source": [
    "\n",
    "5. How many rows and columns are in `gdp_df`? What are the data types of each column?"
   ]
  },
  {
   "cell_type": "code",
   "execution_count": null,
   "id": "5b526364-fb33-4a1f-abb2-9e56a9787410",
   "metadata": {},
   "outputs": [],
   "source": [
    "gdp_df.shape"
   ]
  },
  {
   "cell_type": "code",
   "execution_count": null,
   "id": "c1b10412-bb7e-4579-b1c1-af96e0fce9c7",
   "metadata": {},
   "outputs": [],
   "source": [
    "print(gdp_df.dtypes)"
   ]
  },
  {
   "cell_type": "markdown",
   "id": "c3c5eef9-6a1c-49e0-8811-4729f9c4008d",
   "metadata": {},
   "source": [
    " # gdp_df has 7662 Rows and 4 Columns. Data types as\n",
    "Country or Area     object\r\n",
    "Year                 int64\r\n",
    "Value              float64\r\n",
    "Value Footnotes    float64\r\n",
    "dtype: object"
   ]
  },
  {
   "cell_type": "markdown",
   "id": "a5498a9a-b0b4-417f-8d5f-00e97de9e250",
   "metadata": {},
   "source": [
    "6. Drop the `Value Footnotes` column and rename the remaining three to 'Country', 'Year', and 'GDP_Per_Capita'."
   ]
  },
  {
   "cell_type": "code",
   "execution_count": null,
   "id": "704cf233-b7ae-4b67-938e-637aeddb7d0b",
   "metadata": {},
   "outputs": [],
   "source": [
    "gdp_df= gdp_df.drop(columns = ['Value Footnotes'])  # dropping column Value Footnotes\n",
    "gdp_df.head()"
   ]
  },
  {
   "cell_type": "code",
   "execution_count": null,
   "id": "73c6ebcb-de45-4439-a4eb-0db16867586a",
   "metadata": {},
   "outputs": [],
   "source": [
    "gdp_df = gdp_df.rename(columns = {'Country or Area' :'Country', 'Year' : 'Year','Value' : 'GDP_Per_Capita' })\n",
    "gdp_df.head() # Renaming column names"
   ]
  },
  {
   "cell_type": "markdown",
   "id": "7f5c9b7d-b5b5-4517-96bb-232a4a8b8a56",
   "metadata": {},
   "source": [
    "7. How many countries have data for all years? Which countries are missing many years of data? Look at the number of observations per year. What do you notice?"
   ]
  },
  {
   "cell_type": "code",
   "execution_count": null,
   "id": "054d5ce1-ad4a-4d04-9efd-853af63cd6ac",
   "metadata": {},
   "outputs": [],
   "source": [
    "countries_counts = gdp_df.Country.value_counts().to_frame()\n",
    "len(countries_counts.loc[countries_counts['count'] == 33])"
   ]
  },
  {
   "cell_type": "code",
   "execution_count": null,
   "id": "d64a8666-6b46-4f04-a505-cdf197217ae1",
   "metadata": {},
   "outputs": [],
   "source": [
    "len(countries_counts.loc[countries_counts['count'] <33])"
   ]
  },
  {
   "cell_type": "code",
   "execution_count": null,
   "id": "6460830d-5efc-4f9c-ba54-87eb8930a515",
   "metadata": {},
   "outputs": [],
   "source": [
    "observations_per_year = gdp_df.Year.value_counts().to_frame().reset_index().sort_values(by ='Year').plot('Year', y='count',color='purple')\n",
    "observations_per_year ; "
   ]
  },
  {
   "cell_type": "markdown",
   "id": "8a6e0678-10f0-4e9f-8238-54760d2e1c63",
   "metadata": {},
   "source": [
    "8. In this question, you're going to create some plots to show the distribution of GDP per capita for the year 2020. Go to the Python Graph Gallery (https://www.python-graph-gallery.com/) and look at the different types of plots under the Distribution section. Create a histogram, a density plot, a boxplot, and a violin plot. What do you notice when you look at these plots? How do the plots compare and what information can you get out of one type that you can't necessarily get out of the others?"
   ]
  },
  {
   "cell_type": "code",
   "execution_count": null,
   "id": "aed1ebd6-7011-4754-bf4a-e9e61d58cfd7",
   "metadata": {},
   "outputs": [],
   "source": [
    "gdp_2020 = gdp_df.loc[gdp_df.Year == 2020]\n",
    "gdp_2020.head()"
   ]
  },
  {
   "cell_type": "code",
   "execution_count": null,
   "id": "1aec3662-38cc-40aa-9072-c7a129425086",
   "metadata": {},
   "outputs": [],
   "source": [
    "gdp_2020.hist('GDP_Per_Capita',bins=30,fill= True, color=\"purple\");  # histogram showing distribution of GDP per capita for the year 2020"
   ]
  },
  {
   "cell_type": "code",
   "execution_count": null,
   "id": "429b148e-9ce7-4a3f-9fbc-d9015e566738",
   "metadata": {},
   "outputs": [],
   "source": [
    "sns.set_theme(style=\"darkgrid\")  # distribution of GDP per capita for the year 2020 using Density Plot\n",
    "sns.kdeplot(gdp_2020['GDP_Per_Capita'], fill=True, color=\"purple\", bw_method=1)\n"
   ]
  },
  {
   "cell_type": "code",
   "execution_count": null,
   "id": "663d7bfa-d904-4a52-9e35-1e57e4b88835",
   "metadata": {},
   "outputs": [],
   "source": [
    "gdp_2020.boxplot('GDP_Per_Capita',color='purple')"
   ]
  },
  {
   "cell_type": "code",
   "execution_count": null,
   "id": "1a9d7f7f-55b7-4402-a73c-b94d5c5679df",
   "metadata": {},
   "outputs": [],
   "source": [
    "sns.violinplot(x= 'GDP_Per_Capita',data = gdp_2020, fill = True, color='Purple');"
   ]
  },
  {
   "cell_type": "markdown",
   "id": "89a3c8ea-def6-4fae-a662-0c1f1baa24bd",
   "metadata": {},
   "source": [
    "9. What was the median GDP per capita value in 2020?"
   ]
  },
  {
   "cell_type": "code",
   "execution_count": null,
   "id": "b38546b6-f8c7-4337-910d-1dca10e2f98c",
   "metadata": {},
   "outputs": [],
   "source": [
    "gdp_2020.describe()"
   ]
  },
  {
   "cell_type": "code",
   "execution_count": null,
   "id": "fb5ed41c-97cf-44ac-9ea5-970ec3e02aec",
   "metadata": {},
   "outputs": [],
   "source": [
    "gdp_2020['GDP_Per_Capita'].median()     "
   ]
  },
  {
   "cell_type": "markdown",
   "id": "057285d0-4cd0-4f1b-aa5d-56e4b8e66d1e",
   "metadata": {},
   "source": [
    " Answer: 13357.997573370474 Median  median GDP per capita value in 2020"
   ]
  },
  {
   "cell_type": "code",
   "execution_count": null,
   "id": "836bf062-adda-434e-8d3b-6287e39aff03",
   "metadata": {},
   "outputs": [],
   "source": [
    "np.round(gdp_2020['GDP_Per_Capita'].median(),decimals=2)"
   ]
  },
  {
   "cell_type": "markdown",
   "id": "81fc39e9-468d-4ebb-8984-dfe6ed28a98c",
   "metadata": {},
   "source": [
    "10. For this question, you're going to create some visualizations to compare GDP per capita values for the years 1990, 2000, 2010, and 2020. Start by subsetting your data to just these 4 years into a new DataFrame named gdp_decades. Using this, create the following 4 plots:\n",
    "\t* A boxplot\n",
    "\t* A barplot (check out the Barplot with Seaborn section: https://www.python-graph-gallery.com/barplot/#Seaborn)\n",
    "\t* A scatterplot\n",
    "\t* A scatterplot with a trend line overlaid (see this regplot example: https://www.python-graph-gallery.com/42-custom-linear-regression-fit-seaborn)  \n",
    "Comment on what you observe has happened to GDP values over time and the relative strengths and weaknesses of each type of plot."
   ]
  },
  {
   "cell_type": "code",
   "execution_count": null,
   "id": "b725bded-b63a-4474-b46f-1eeba479066b",
   "metadata": {},
   "outputs": [],
   "source": [
    "my_list = [1990,2000,2010,2020]\n",
    "gdp_decades =  gdp_df.loc[gdp_df.Year.isin(my_list)]\n",
    "gdp_decades"
   ]
  },
  {
   "cell_type": "code",
   "execution_count": null,
   "id": "c3f66580-2799-4860-b229-6296584b819b",
   "metadata": {},
   "outputs": [],
   "source": [
    "sns.boxplot(data=gdp_decades, y = 'GDP_Per_Capita', x='Year',color=\"purple\"); \n",
    "# Box plot shows  GDP per capita values for the years 1990, 2000, 2010, and 2020."
   ]
  },
  {
   "cell_type": "code",
   "execution_count": null,
   "id": "c27e7b02-12a7-4174-aff0-bd43c71bf38b",
   "metadata": {},
   "outputs": [],
   "source": [
    "sns.boxplot(x=gdp_decades[\"Year\"], y=gdp_decades[\"GDP_Per_Capita\"], notch=True,color=\"purple\");\n",
    "# Boxplot shows GDP per capita values for the years 1990,2000,2010,and2020."
   ]
  },
  {
   "cell_type": "code",
   "execution_count": null,
   "id": "37e130e9-b513-47a3-b172-f6264f7059d6",
   "metadata": {},
   "outputs": [],
   "source": [
    "sns.barplot(data=gdp_decades, y=\"GDP_Per_Capita\", x=\"Year\",ci=None,color=\"purple\");  "
   ]
  },
  {
   "cell_type": "code",
   "execution_count": null,
   "id": "3253dd20-8863-4d53-9c95-10cb3c5c23d0",
   "metadata": {},
   "outputs": [],
   "source": [
    "sns.scatterplot(data = gdp_decades,  x = \"Year\",y =\"GDP_Per_Capita\",color=\"purple\");"
   ]
  },
  {
   "cell_type": "code",
   "execution_count": null,
   "id": "32cbef68-ba47-4aec-80a4-874b6b081fe0",
   "metadata": {},
   "outputs": [],
   "source": [
    "fig, ax = plt.subplots(figsize=(8, 6))\n",
    "sns.regplot(\n",
    "    x=gdp_decades[\"Year\"],\n",
    "    y=gdp_decades[\"GDP_Per_Capita\"],color=\"purple\",\n",
    "    line_kws={\"color\": \"black\"},\n",
    "    ax=ax\n",
    ")\n",
    "plt.show()"
   ]
  },
  {
   "cell_type": "markdown",
   "id": "c638dee8-92b7-4534-a8df-6f29a9d75cd4",
   "metadata": {},
   "source": [
    "11. Which country was the first to have a GDP per capita greater than $100,000?"
   ]
  },
  {
   "cell_type": "code",
   "execution_count": null,
   "id": "2ef19217-9593-4a8a-a044-8a4b02c94714",
   "metadata": {},
   "outputs": [],
   "source": [
    "country_with_max_gdp = gdp_df.loc[gdp_df['GDP_Per_Capita'] > 100000].sort_values(by = 'Year')\n",
    "country_with_max_gdp .head(1)"
   ]
  },
  {
   "cell_type": "markdown",
   "id": "7f634433-f150-4a85-94eb-cf03afa0575b",
   "metadata": {},
   "source": [
    "#    United Arab Emirates country was first to have highest GDP_Per_Capita in 1990 with GDP_Per_Capita 105893.626059\n"
   ]
  },
  {
   "cell_type": "markdown",
   "id": "95127083-3de7-4f2c-90f3-1f332f3b6cd3",
   "metadata": {},
   "source": [
    "12. Which country had the highest GDP per capita in 2020? Create a plot showing how this country's GDP per capita has changed over the timespan of the dataset."
   ]
  },
  {
   "cell_type": "code",
   "execution_count": null,
   "id": "3ad22a41-5a1c-45e7-9851-873e3b500041",
   "metadata": {},
   "outputs": [],
   "source": [
    "highest_gdp = gdp_2020.sort_values(by =\"GDP_Per_Capita\",ascending=False).head(1).Country.to_list()\n",
    "highest_gdp"
   ]
  },
  {
   "cell_type": "code",
   "execution_count": null,
   "id": "e1d606cb-aaf6-4627-a3dd-81e9658c4549",
   "metadata": {},
   "outputs": [],
   "source": [
    "gdp_df.loc[gdp_df['Country'].isin(highest_gdp)].plot(x=\"Year\", y=\"GDP_Per_Capita\",color=\"purple\");"
   ]
  },
  {
   "cell_type": "markdown",
   "id": "88652132-d2a8-431c-820e-790e671c7214",
   "metadata": {},
   "source": [
    "13. Which country had the lowest GDP per capita in 2020? Create a plot showing how this country's GDP per capita has changed over the timespan of the dataset."
   ]
  },
  {
   "cell_type": "code",
   "execution_count": null,
   "id": "972198d0-55bf-4dd6-8fa7-898e76bc938f",
   "metadata": {},
   "outputs": [],
   "source": [
    "lowest_gdp = gdp_2020.sort_values(by =\"GDP_Per_Capita\").head(1).Country.to_list()\n",
    "lowest_gdp"
   ]
  },
  {
   "cell_type": "code",
   "execution_count": null,
   "id": "a35ba9d1-2fe1-4ac8-ace2-44729a51e0b5",
   "metadata": {},
   "outputs": [],
   "source": [
    "gdp_df.loc[gdp_df['Country'].isin(lowest_gdp)].plot(x=\"Year\",y=\"GDP_Per_Capita\",color=\"purple\")"
   ]
  },
  {
   "cell_type": "markdown",
   "id": "465aabaf-837e-4b4e-8763-8f0fa878999f",
   "metadata": {},
   "source": [
    " **Bonus question:** Is it true in general that coutries had a higher GDP per capita in 2020 than in 1990? Which countries had lower GDP per capita in 2020 than in 1990?"
   ]
  },
  {
   "cell_type": "code",
   "execution_count": null,
   "id": "7a2aba79-7761-4d9f-9049-a1b5a395a274",
   "metadata": {},
   "outputs": [],
   "source": [
    "gdp_df_1990  = gdp_df.loc[gdp_df.Year == 1990]\n",
    "gdp_df_1990.sort_values(by = \"GDP_Per_Capita\" , ascending =False).head(5)"
   ]
  },
  {
   "cell_type": "code",
   "execution_count": null,
   "id": "3d6e247b-7883-4ace-a164-6c7f7a9ced0f",
   "metadata": {},
   "outputs": [],
   "source": [
    "gdp_df_2020 = gdp_df.loc[gdp_df.Year == 2020]\n",
    "gdp_df_2020.sort_values(by = \"GDP_Per_Capita\" , ascending =False).head(5)"
   ]
  },
  {
   "cell_type": "code",
   "execution_count": null,
   "id": "a955bb80-f84a-4778-947f-30d772659c5b",
   "metadata": {},
   "outputs": [],
   "source": [
    "df_1990 = pd.DataFrame(gdp_df_1990)\n",
    "df_2020 = pd.DataFrame(gdp_df_2020)"
   ]
  },
  {
   "cell_type": "code",
   "execution_count": null,
   "id": "f57a98fa-cee9-4fbf-914d-35145973f9cd",
   "metadata": {},
   "outputs": [],
   "source": [
    "concat_data = pd.concat([gdp_df_1990, gdp_df_2020 ]) \n",
    "concat_data\n"
   ]
  },
  {
   "cell_type": "code",
   "execution_count": null,
   "id": "526fd2f9-2de1-4c1e-9ff2-e749b112a04c",
   "metadata": {},
   "outputs": [],
   "source": [
    "sns.barplot(data = concat_data, y = 'GDP_Per_Capita', x='Year',color=\"purple\",ci=None);"
   ]
  },
  {
   "cell_type": "markdown",
   "id": "01be7228-2f13-41a5-9c3d-893398b07777",
   "metadata": {},
   "source": [
    "14. Read in the internet use dataset into a DataFrame named `internet_df`. You will likely get errors when doing this. Check the arguments for the read_csv function to find ones that can help correct the errors (https://pandas.pydata.org/docs/reference/api/pandas.read_csv.html) Once you are able to read it in, take per a look at the top and bottom few rows to make sure that it has been read in correctly. Also, check the datatypes of the columns."
   ]
  },
  {
   "cell_type": "code",
   "execution_count": null,
   "id": "2e113aae-0ea6-4d66-af02-ed7abe1ee733",
   "metadata": {},
   "outputs": [],
   "source": [
    "internet_df.head(5)"
   ]
  },
  {
   "cell_type": "code",
   "execution_count": null,
   "id": "c3668282-b5be-4a7e-8a95-aec4adeedd78",
   "metadata": {},
   "outputs": [],
   "source": [
    "internet_df.dtypes"
   ]
  },
  {
   "cell_type": "markdown",
   "id": "80783f45-f62a-4149-856e-2c92a425c8c2",
   "metadata": {},
   "source": [
    "15. Drop the `Value Footnotes` column and rename the remaining three to 'Country', 'Year', and 'Internet_Users_Pct'."
   ]
  },
  {
   "cell_type": "code",
   "execution_count": null,
   "id": "fa1bd6cb-8181-43eb-8f73-f50586eb1335",
   "metadata": {},
   "outputs": [],
   "source": [
    "internet_df= internet_df.drop(columns= ['Value Footnotes'])\n",
    "internet_df"
   ]
  },
  {
   "cell_type": "code",
   "execution_count": null,
   "id": "4bc801a4-ba90-4d0a-b7b7-f2fe10f4b18e",
   "metadata": {},
   "outputs": [],
   "source": [
    "internet_df = internet_df.rename(columns ={'Country or Area' : 'Country', 'Value': 'Internet_Users_Pct'} )\n",
    "internet_df"
   ]
  },
  {
   "cell_type": "markdown",
   "id": "e49aed76-4af0-4e4b-b7a0-6c1bd2468bc2",
   "metadata": {},
   "source": [
    "16. Look at the number of observations in this dataset per year. What do you notice?"
   ]
  },
  {
   "cell_type": "code",
   "execution_count": null,
   "id": "52fb3b42-168c-4be1-b15f-e3f529a6f082",
   "metadata": {},
   "outputs": [],
   "source": [
    " Observations_per_year_int_Pct = internet_df.Year.value_counts().to_frame().reset_index().sort_values(by =\"Year\").plot(\"Year\",y=\"count\",color=\"purple\")\n",
    " Observations_per_year_int_Pct;"
   ]
  },
  {
   "cell_type": "markdown",
   "id": "79628c33-99da-4ab3-85e9-46177fd9eca6",
   "metadata": {},
   "source": [
    "17. What is the first year to have a non-zero internet users percentage value?"
   ]
  },
  {
   "cell_type": "code",
   "execution_count": null,
   "id": "81256566-dabc-4dfa-a214-26833d7bdd37",
   "metadata": {},
   "outputs": [],
   "source": [
    "internet_df.loc[internet_df['Internet_Users_Pct'] != 0].sort_values(by ='Year')"
   ]
  },
  {
   "cell_type": "markdown",
   "id": "e0a43193-3211-414e-95c2-241b276ccd0c",
   "metadata": {},
   "source": [
    "18. How does the distribution of internet users percent differ for 2000 and 2014?"
   ]
  },
  {
   "cell_type": "code",
   "execution_count": null,
   "id": "8baf3dac-fa1f-401a-be6c-f6708b9718c4",
   "metadata": {},
   "outputs": [],
   "source": [
    "my_list=[2000,2014]\n",
    "internet_users_distribution_2000_2014 =internet_df.loc[internet_df.Year.isin(my_list)]\n",
    "internet_users_distribution_2000_2014"
   ]
  },
  {
   "cell_type": "code",
   "execution_count": null,
   "id": "9ec2f36f-5009-4165-bc94-27a2fcbf2aca",
   "metadata": {},
   "outputs": [],
   "source": [
    "sns.boxplot(data = internet_users_distribution_2000_2014, x= 'Year', y = 'Internet_Users_Pct',color=\"purple\");"
   ]
  },
  {
   "cell_type": "markdown",
   "id": "20c7fbfd-b2f0-484f-86a9-e5a82732fde9",
   "metadata": {},
   "source": [
    "19. For how many countries was the percentage of internet users below 5% in 2014?"
   ]
  },
  {
   "cell_type": "code",
   "execution_count": null,
   "id": "59c882c5-a483-4fab-9db4-350e347db1ca",
   "metadata": {},
   "outputs": [],
   "source": [
    "len(internet_df.loc[(internet_df.Internet_Users_Pct < 5) & (internet_df.Year == 2014)])"
   ]
  },
  {
   "cell_type": "markdown",
   "id": "d78c7fd6-5494-41e8-94a1-8c7738536389",
   "metadata": {},
   "source": [
    "20. Merge the two DataFrames to one. Do this in a way that keeps **all rows** from each of the two DataFrames. Call the new DataFrame `gdp_and_internet_use`. Look at the first and last few rows to confirm that it merged correctly."
   ]
  },
  {
   "cell_type": "code",
   "execution_count": null,
   "id": "0e053556-2aac-4ba3-8659-cf0bea892f1d",
   "metadata": {},
   "outputs": [],
   "source": [
    "gdp_and_internet_use = pd.merge(gdp_df, internet_df,\n",
    "                                left_on = ['Country','Year'], right_on = ['Country','Year'],\n",
    "                                how = 'outer')\n",
    "gdp_and_internet_use"
   ]
  },
  {
   "cell_type": "code",
   "execution_count": null,
   "id": "11be01e8-7a2a-4d4e-b6f3-f60ca3078889",
   "metadata": {},
   "outputs": [],
   "source": [
    "gdp_and_internet_use.head()\n"
   ]
  },
  {
   "cell_type": "code",
   "execution_count": null,
   "id": "30c34240-0294-4a2d-83c4-c635cdae65f6",
   "metadata": {},
   "outputs": [],
   "source": [
    "gdp_and_internet_use.tail()"
   ]
  },
  {
   "cell_type": "markdown",
   "id": "ffda0773-1b9f-4a80-9d88-2494835d51c3",
   "metadata": {},
   "source": [
    "21. Find the three countries with the highest internet users percentage in 2014. Use a seaborn FacetGrid (https://seaborn.pydata.org/generated/seaborn.FacetGrid.html) to compare how the GDP per capita has changed over time for these three countries. What do you notice?"
   ]
  },
  {
   "cell_type": "code",
   "execution_count": null,
   "id": "3c712a79-9afd-40b6-a7e5-94af0a6d20d5",
   "metadata": {},
   "outputs": [],
   "source": [
    "top_three = internet_users_distribution_2000_2014.loc[internet_users_distribution_2000_2014.Year == 2014 ].sort_values(by = 'Internet_Users_Pct', ascending=False).head(3).Country.to_list()\n",
    "top_three"
   ]
  },
  {
   "cell_type": "code",
   "execution_count": null,
   "id": "7af9d4bc-dbfa-427a-a36c-9d768ac703bb",
   "metadata": {},
   "outputs": [],
   "source": [
    "top_three_countries= gdp_df.loc[gdp_df.Country.isin(top_three )]"
   ]
  },
  {
   "cell_type": "code",
   "execution_count": null,
   "id": "457e4076-b9fd-47ac-ab25-d3b90c276ec6",
   "metadata": {},
   "outputs": [],
   "source": [
    "g = sns.FacetGrid(top_three_countries, col=\"Country\", height=4 )\n",
    "g.map(sns.lineplot, \"Year\",\"GDP_Per_Capita\");"
   ]
  },
  {
   "cell_type": "markdown",
   "id": "4ddf82e5-baaf-4648-8dec-a703761fcece",
   "metadata": {},
   "source": [
    "22. Subset `gdp_and_internet_use` to just the year 2014. Save this as a new dataframe named `gdp_and_internet_use_2014`."
   ]
  },
  {
   "cell_type": "code",
   "execution_count": null,
   "id": "2e2f249f-e31f-4c0c-bdaf-8b4ffa187b18",
   "metadata": {},
   "outputs": [],
   "source": [
    "gdp_and_internet_use_2014 = gdp_and_internet_use.loc[gdp_and_internet_use.Year == 2014] \n",
    "gdp_and_internet_use_2014.head()"
   ]
  },
  {
   "cell_type": "markdown",
   "id": "0e0c681d-eec6-45f9-9b21-b39d184d3f8f",
   "metadata": {},
   "source": [
    "23. Create a plot which compares Internet Users Percentage and GDP per Capita for the year 2014. What do you notice from this plot? If you see any unusual points, investigate them."
   ]
  },
  {
   "cell_type": "code",
   "execution_count": null,
   "id": "f74ad0fc-9e72-4af4-917c-67711c70d4fe",
   "metadata": {},
   "outputs": [],
   "source": [
    "sns.scatterplot(data = gdp_and_internet_use_2014,x = 'Internet_Users_Pct', y='GDP_Per_Capita',color=\"purple\");"
   ]
  },
  {
   "cell_type": "markdown",
   "id": "3a1a7ae7-e518-4bf3-ad1c-64b1e024971b",
   "metadata": {},
   "source": [
    "24. **Stretch Question:** Use the `qcut` function from pandas (https://pandas.pydata.org/docs/reference/api/pandas.qcut.html) to divide countries in `gdp_per_capita_2014` into three groups based on their GDP per capita values. Label these groups as \"Low\", \"Medium\", and \"High\". Put these labels in a new column, named \"GDP_group\"."
   ]
  },
  {
   "cell_type": "code",
   "execution_count": null,
   "id": "7fe84378-2c79-4577-a6f4-bbbd93a0ecaa",
   "metadata": {},
   "outputs": [],
   "source": [
    "gdp_and_internet_use_2014['GDP_group'] = pd.qcut(x = gdp_and_internet_use_2014.GDP_Per_Capita, q = 3, labels =['Low' ,'Medium', 'High']) \n",
    "gdp_and_internet_use_2014"
   ]
  },
  {
   "cell_type": "markdown",
   "id": "74141690-3051-4a06-85e4-e6846db180bf",
   "metadata": {},
   "source": [
    "gdp_and_internet_use_2014.dropna()"
   ]
  },
  {
   "cell_type": "code",
   "execution_count": null,
   "id": "2b031bc2-288d-48f9-9055-fc591b16ca57",
   "metadata": {},
   "outputs": [],
   "source": [
    " gdp_and_internet_use_2014.describe()"
   ]
  },
  {
   "cell_type": "code",
   "execution_count": null,
   "id": "1d8a541c-a8bf-4924-9d22-fbeb47e3b224",
   "metadata": {},
   "outputs": [],
   "source": [
    " gdp_and_internet_use_2014['gdp_group'] = ''"
   ]
  },
  {
   "cell_type": "markdown",
   "id": "2a648018-360c-469a-aa77-106668904e1f",
   "metadata": {},
   "source": [
    "gdp_and_internet_use_2014 = gdp_and_internet_use_2014.dropna()\n"
   ]
  },
  {
   "cell_type": "code",
   "execution_count": null,
   "id": "cbaafbea-f5a2-4d09-9cb2-550aadd8d5ff",
   "metadata": {},
   "outputs": [],
   "source": [
    "gdp_and_internet_use_2014"
   ]
  },
  {
   "cell_type": "code",
   "execution_count": null,
   "id": "cdecef2a-fb5e-404d-8e0f-fd5600a45690",
   "metadata": {},
   "outputs": [],
   "source": [
    "low_threshold =  gdp_and_internet_use_2014['GDP_Per_Capita'].quantile(1/3) # 33rd percentile\n",
    "low_threshold"
   ]
  },
  {
   "cell_type": "code",
   "execution_count": null,
   "id": "160ab549-b4cd-4a30-8177-6c816695e6e3",
   "metadata": {},
   "outputs": [],
   "source": [
    "high_threshold =  gdp_and_internet_use_2014['GDP_Per_Capita'].quantile(2/3) # 66th percentile\n",
    "high_threshold"
   ]
  },
  {
   "cell_type": "code",
   "execution_count": null,
   "id": "0ae921bb-830d-4cfa-a9ec-bf7935e8debe",
   "metadata": {},
   "outputs": [],
   "source": [
    "for index, row in gdp_and_internet_use_2014.iterrows():\n",
    "    if row['GDP_Per_Capita'] <= low_threshold:\n",
    "        gdp_and_internet_use_2014.loc[index, 'gdp_group'] = 'Low'\n",
    "    elif row['GDP_Per_Capita'] <= high_threshold:\n",
    "        gdp_and_internet_use_2014.loc[index, 'gdp_group'] = 'Medium'\n",
    "    else:\n",
    "        gdp_and_internet_use_2014.loc[index, 'gdp_group'] = 'High'"
   ]
  },
  {
   "cell_type": "code",
   "execution_count": null,
   "id": "05b0dea0-8d43-4484-90df-399b48d20b0d",
   "metadata": {},
   "outputs": [],
   "source": [
    "  gdp_and_internet_use_2014"
   ]
  },
  {
   "cell_type": "markdown",
   "id": "c9319d40-53b5-4ba0-a902-98c57b8e4ff4",
   "metadata": {},
   "source": [
    "25. **Stretch Question:** How does the median internet users percentage compare for the three gdp groups?"
   ]
  },
  {
   "cell_type": "code",
   "execution_count": null,
   "id": "00cf7d2f-bee2-4421-920a-5d8063aaa4f6",
   "metadata": {},
   "outputs": [],
   "source": [
    "gdp_and_internet_use_2014.groupby('GDP_group')['Internet_Users_Pct'].median()"
   ]
  },
  {
   "cell_type": "code",
   "execution_count": null,
   "id": "2df8ddd4-e721-4e78-ae41-18f69c8a15e1",
   "metadata": {},
   "outputs": [],
   "source": []
  }
 ],
 "metadata": {
  "kernelspec": {
   "display_name": "Python 3 (ipykernel)",
   "language": "python",
   "name": "python3"
  },
  "language_info": {
   "codemirror_mode": {
    "name": "ipython",
    "version": 3
   },
   "file_extension": ".py",
   "mimetype": "text/x-python",
   "name": "python",
   "nbconvert_exporter": "python",
   "pygments_lexer": "ipython3",
   "version": "3.11.7"
  }
 },
 "nbformat": 4,
 "nbformat_minor": 5
}
